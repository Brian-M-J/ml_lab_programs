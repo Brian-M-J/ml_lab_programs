{
 "cells": [
  {
   "cell_type": "code",
   "execution_count": 1,
   "id": "42522ed2",
   "metadata": {},
   "outputs": [],
   "source": [
    "import numpy as np"
   ]
  },
  {
   "cell_type": "code",
   "execution_count": 2,
   "id": "74a7b3d2",
   "metadata": {},
   "outputs": [],
   "source": [
    "X = np.array(([2, 9], [1, 5], [3, 6]), dtype=float)\n",
    "y = np.array(([92], [86], [89]), dtype=float)\n",
    "\n",
    "X = X / np.amax(X, axis=0)  # maximum of X array longitudinally\n",
    "\n",
    "y = y / 100"
   ]
  },
  {
   "cell_type": "code",
   "execution_count": 3,
   "id": "bf49478b",
   "metadata": {},
   "outputs": [],
   "source": [
    "# Sigmoid Function\n",
    "def sigmoid(x):\n",
    "    return 1 / (1 + np.exp(-x))"
   ]
  },
  {
   "cell_type": "code",
   "execution_count": 4,
   "id": "ac4f6481",
   "metadata": {},
   "outputs": [],
   "source": [
    "# Derivative of Sigmoid Function\n",
    "def derivatives_sigmoid(x):\n",
    "    return x * (1 - x)"
   ]
  },
  {
   "cell_type": "code",
   "execution_count": 5,
   "id": "98fa2e65",
   "metadata": {},
   "outputs": [],
   "source": [
    "# Variable initialization\n",
    "epoch = 500  # Setting training iterations\n",
    "lr = 0.1  # Setting learning rate\n",
    "inputlayer_neurons = 2  # number of features in data set\n",
    "hiddenlayer_neurons = 3  # number of hidden layers\n",
    "output_neurons = 1  # number of neurons at output layer"
   ]
  },
  {
   "cell_type": "code",
   "execution_count": 6,
   "id": "2d3bf42d",
   "metadata": {},
   "outputs": [],
   "source": [
    "# weight and bias initialization\n",
    "wh = np.random.uniform(size=(inputlayer_neurons, hiddenlayer_neurons))\n",
    "bh = np.random.uniform(size=(1, hiddenlayer_neurons))\n",
    "wout = np.random.uniform(size=(hiddenlayer_neurons, output_neurons))\n",
    "bout = np.random.uniform(size=(1, output_neurons))"
   ]
  },
  {
   "cell_type": "code",
   "execution_count": 7,
   "id": "5ad0ec5d",
   "metadata": {},
   "outputs": [],
   "source": [
    "# draws a random range of numbers uniformly of dim x * y\n",
    "for i in range(epoch):\n",
    "    # Forward Propagation\n",
    "    hinp1 = np.dot(X, wh)\n",
    "    hinp = hinp1 + bh\n",
    "    hlayer_act = sigmoid(hinp)\n",
    "    outinp1 = np.dot(hlayer_act, wout)\n",
    "    outinp = outinp1 + bout\n",
    "    output = sigmoid(outinp)\n",
    "    \n",
    "    # Backpropagation\n",
    "    EO = y - output\n",
    "    outgrad = derivatives_sigmoid(output)\n",
    "    d_output = EO * outgrad\n",
    "    EH = d_output.dot(wout.T)\n",
    "    \n",
    "    # how much hidden layer wts contributed to error\n",
    "    hiddengrad = derivatives_sigmoid(hlayer_act)\n",
    "    d_hiddenlayer = EH * hiddengrad\n",
    "    \n",
    "    # dot product of next layer error and current layer output\n",
    "    wout += hlayer_act.T.dot(d_output) * lr\n",
    "    wh += X.T.dot(d_hiddenlayer) * lr"
   ]
  },
  {
   "cell_type": "code",
   "execution_count": 8,
   "id": "c6ae2724",
   "metadata": {},
   "outputs": [
    {
     "name": "stdout",
     "output_type": "stream",
     "text": [
      "\n",
      "Input:\n",
      "[[0.66666667 1.        ]\n",
      " [0.33333333 0.55555556]\n",
      " [1.         0.66666667]]\n",
      "\n",
      "Actual Output:\n",
      "[[0.92]\n",
      " [0.86]\n",
      " [0.89]]\n",
      "\n",
      "Predicted Output:\n",
      "[[0.89206464]\n",
      " [0.88061486]\n",
      " [0.8916136 ]]\n"
     ]
    }
   ],
   "source": [
    "print(\"\\nInput:\", X, sep='\\n')\n",
    "print(\"\\nActual Output:\", y, sep='\\n')\n",
    "print(\"\\nPredicted Output:\", output, sep='\\n')"
   ]
  }
 ],
 "metadata": {
  "kernelspec": {
   "display_name": "Python 3 (ipykernel)",
   "language": "python",
   "name": "python3"
  },
  "language_info": {
   "codemirror_mode": {
    "name": "ipython",
    "version": 3
   },
   "file_extension": ".py",
   "mimetype": "text/x-python",
   "name": "python",
   "nbconvert_exporter": "python",
   "pygments_lexer": "ipython3",
   "version": "3.10.9"
  }
 },
 "nbformat": 4,
 "nbformat_minor": 5
}
